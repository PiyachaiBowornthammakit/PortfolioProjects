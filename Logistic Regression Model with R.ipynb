{
 "cells":[
  {
   "cell_type":"markdown",
   "source":[
    "# Train-Test Logistic Regression Model (Titanic) with R"
   ],
   "attachments":{
    
   },
   "metadata":{
    "datalore":{
     "node_id":"KWuVpBqr1lZqlie6D0Z93C",
     "type":"MD",
     "hide_input_from_viewers":true,
     "hide_output_from_viewers":true
    }
   }
  },
  {
   "cell_type":"code",
   "source":[
    "#install package\n",
    "install.packages(\"tidyverse\")\n",
    "install.packages(\"titanic\")\n",
    "library(tidyverse)\n",
    "library(titanic)"
   ],
   "execution_count":1,
   "outputs":[
    {
     "name":"stderr",
     "text":[
      "Updating HTML index of packages in '.Library'\n",
      "\n",
      "Making 'packages.html' ...\n",
      " done\n",
      "\n",
      "Updating HTML index of packages in '.Library'\n",
      "\n",
      "Making 'packages.html' ...\n",
      " done\n",
      "\n",
      "Warning message in system(\"timedatectl\", intern = TRUE):\n",
      "“running command 'timedatectl' had status 1”\n",
      "Warning message:\n",
      "“Failed to locate timezone database”\n",
      "── \u001b[1mAttaching core tidyverse packages\u001b[22m ──────────────────────── tidyverse 2.0.0 ──\n",
      "\u001b[32m✔\u001b[39m \u001b[34mdplyr    \u001b[39m 1.1.1     \u001b[32m✔\u001b[39m \u001b[34mreadr    \u001b[39m 2.1.4\n",
      "\u001b[32m✔\u001b[39m \u001b[34mforcats  \u001b[39m 1.0.0     \u001b[32m✔\u001b[39m \u001b[34mstringr  \u001b[39m 1.5.0\n",
      "\u001b[32m✔\u001b[39m \u001b[34mggplot2  \u001b[39m 3.4.2     \u001b[32m✔\u001b[39m \u001b[34mtibble   \u001b[39m 3.2.1\n",
      "\u001b[32m✔\u001b[39m \u001b[34mlubridate\u001b[39m 1.9.2     \u001b[32m✔\u001b[39m \u001b[34mtidyr    \u001b[39m 1.3.0\n",
      "\u001b[32m✔\u001b[39m \u001b[34mpurrr    \u001b[39m 1.0.1     \n",
      "── \u001b[1mConflicts\u001b[22m ────────────────────────────────────────── tidyverse_conflicts() ──\n",
      "\u001b[31m✖\u001b[39m \u001b[34mdplyr\u001b[39m::\u001b[32mfilter()\u001b[39m  masks \u001b[34mstats\u001b[39m::filter()\n",
      "\u001b[31m✖\u001b[39m \u001b[34mpurrr\u001b[39m::\u001b[32mflatten()\u001b[39m masks \u001b[34mjsonlite\u001b[39m::flatten()\n",
      "\u001b[31m✖\u001b[39m \u001b[34mdplyr\u001b[39m::\u001b[32mlag()\u001b[39m     masks \u001b[34mstats\u001b[39m::lag()\n",
      "\u001b[36mℹ\u001b[39m Use the conflicted package (\u001b[3m\u001b[34m<http:\/\/conflicted.r-lib.org\/>\u001b[39m\u001b[23m) to force all conflicts to become errors\n"
     ],
     "output_type":"stream"
    }
   ],
   "metadata":{
    "datalore":{
     "node_id":"bIwXOp5JO0hgB7WqsK0TOY",
     "type":"CODE",
     "hide_input_from_viewers":true,
     "hide_output_from_viewers":true
    }
   }
  },
  {
   "cell_type":"code",
   "source":[
    "#check data\n",
    "data(titanic_train)\n",
    "glimpse(titanic_train)"
   ],
   "execution_count":2,
   "outputs":[
    {
     "name":"stdout",
     "text":[
      "Rows: 891\n",
      "Columns: 12\n",
      "$ PassengerId \u001b[3m\u001b[90m<int>\u001b[39m\u001b[23m 1, 2, 3, 4, 5, 6, 7, 8, 9, 10, 11, 12, 13, 14, 15, 16, 17,…\n",
      "$ Survived    \u001b[3m\u001b[90m<int>\u001b[39m\u001b[23m 0, 1, 1, 1, 0, 0, 0, 0, 1, 1, 1, 1, 0, 0, 0, 1, 0, 1, 0, 1…\n",
      "$ Pclass      \u001b[3m\u001b[90m<int>\u001b[39m\u001b[23m 3, 1, 3, 1, 3, 3, 1, 3, 3, 2, 3, 1, 3, 3, 3, 2, 3, 2, 3, 3…\n",
      "$ Name        \u001b[3m\u001b[90m<chr>\u001b[39m\u001b[23m \"Braund, Mr. Owen Harris\", \"Cumings, Mrs. John Bradley (Fl…\n",
      "$ Sex         \u001b[3m\u001b[90m<chr>\u001b[39m\u001b[23m \"male\", \"female\", \"female\", \"female\", \"male\", \"male\", \"mal…\n",
      "$ Age         \u001b[3m\u001b[90m<dbl>\u001b[39m\u001b[23m 22, 38, 26, 35, 35, NA, 54, 2, 27, 14, 4, 58, 20, 39, 14, …\n",
      "$ SibSp       \u001b[3m\u001b[90m<int>\u001b[39m\u001b[23m 1, 1, 0, 1, 0, 0, 0, 3, 0, 1, 1, 0, 0, 1, 0, 0, 4, 0, 1, 0…\n",
      "$ Parch       \u001b[3m\u001b[90m<int>\u001b[39m\u001b[23m 0, 0, 0, 0, 0, 0, 0, 1, 2, 0, 1, 0, 0, 5, 0, 0, 1, 0, 0, 0…\n",
      "$ Ticket      \u001b[3m\u001b[90m<chr>\u001b[39m\u001b[23m \"A\/5 21171\", \"PC 17599\", \"STON\/O2. 3101282\", \"113803\", \"37…\n",
      "$ Fare        \u001b[3m\u001b[90m<dbl>\u001b[39m\u001b[23m 7.2500, 71.2833, 7.9250, 53.1000, 8.0500, 8.4583, 51.8625,…\n",
      "$ Cabin       \u001b[3m\u001b[90m<chr>\u001b[39m\u001b[23m \"\", \"C85\", \"\", \"C123\", \"\", \"\", \"E46\", \"\", \"\", \"\", \"G6\", \"C…\n",
      "$ Embarked    \u001b[3m\u001b[90m<chr>\u001b[39m\u001b[23m \"S\", \"C\", \"S\", \"S\", \"S\", \"Q\", \"S\", \"S\", \"S\", \"C\", \"S\", \"S\"…\n"
     ],
     "output_type":"stream"
    }
   ],
   "metadata":{
    "datalore":{
     "node_id":"67S6TF3X3EIK6h9b2FuAWT",
     "type":"CODE",
     "hide_input_from_viewers":true,
     "hide_output_from_viewers":true
    }
   }
  },
  {
   "cell_type":"code",
   "source":[
    "head(titanic_train, 10)"
   ],
   "execution_count":3,
   "outputs":[
    {
     "data":{
      "text\/html":[
       "<table class=\"dataframe\">\n",
       "<caption>A data.frame: 10 × 12<\/caption>\n",
       "<thead>\n",
       "\t<tr><th><\/th><th scope=col>PassengerId<\/th><th scope=col>Survived<\/th><th scope=col>Pclass<\/th><th scope=col>Name<\/th><th scope=col>Sex<\/th><th scope=col>Age<\/th><th scope=col>SibSp<\/th><th scope=col>Parch<\/th><th scope=col>Ticket<\/th><th scope=col>Fare<\/th><th scope=col>Cabin<\/th><th scope=col>Embarked<\/th><\/tr>\n",
       "\t<tr><th><\/th><th scope=col>&lt;int&gt;<\/th><th scope=col>&lt;int&gt;<\/th><th scope=col>&lt;int&gt;<\/th><th scope=col>&lt;chr&gt;<\/th><th scope=col>&lt;chr&gt;<\/th><th scope=col>&lt;dbl&gt;<\/th><th scope=col>&lt;int&gt;<\/th><th scope=col>&lt;int&gt;<\/th><th scope=col>&lt;chr&gt;<\/th><th scope=col>&lt;dbl&gt;<\/th><th scope=col>&lt;chr&gt;<\/th><th scope=col>&lt;chr&gt;<\/th><\/tr>\n",
       "<\/thead>\n",
       "<tbody>\n",
       "\t<tr><th scope=row>1<\/th><td> 1<\/td><td>0<\/td><td>3<\/td><td>Braund, Mr. Owen Harris                            <\/td><td>male  <\/td><td>22<\/td><td>1<\/td><td>0<\/td><td>A\/5 21171       <\/td><td> 7.2500<\/td><td>    <\/td><td>S<\/td><\/tr>\n",
       "\t<tr><th scope=row>2<\/th><td> 2<\/td><td>1<\/td><td>1<\/td><td>Cumings, Mrs. John Bradley (Florence Briggs Thayer)<\/td><td>female<\/td><td>38<\/td><td>1<\/td><td>0<\/td><td>PC 17599        <\/td><td>71.2833<\/td><td>C85 <\/td><td>C<\/td><\/tr>\n",
       "\t<tr><th scope=row>3<\/th><td> 3<\/td><td>1<\/td><td>3<\/td><td>Heikkinen, Miss. Laina                             <\/td><td>female<\/td><td>26<\/td><td>0<\/td><td>0<\/td><td>STON\/O2. 3101282<\/td><td> 7.9250<\/td><td>    <\/td><td>S<\/td><\/tr>\n",
       "\t<tr><th scope=row>4<\/th><td> 4<\/td><td>1<\/td><td>1<\/td><td>Futrelle, Mrs. Jacques Heath (Lily May Peel)       <\/td><td>female<\/td><td>35<\/td><td>1<\/td><td>0<\/td><td>113803          <\/td><td>53.1000<\/td><td>C123<\/td><td>S<\/td><\/tr>\n",
       "\t<tr><th scope=row>5<\/th><td> 5<\/td><td>0<\/td><td>3<\/td><td>Allen, Mr. William Henry                           <\/td><td>male  <\/td><td>35<\/td><td>0<\/td><td>0<\/td><td>373450          <\/td><td> 8.0500<\/td><td>    <\/td><td>S<\/td><\/tr>\n",
       "\t<tr><th scope=row>6<\/th><td> 6<\/td><td>0<\/td><td>3<\/td><td>Moran, Mr. James                                   <\/td><td>male  <\/td><td>NA<\/td><td>0<\/td><td>0<\/td><td>330877          <\/td><td> 8.4583<\/td><td>    <\/td><td>Q<\/td><\/tr>\n",
       "\t<tr><th scope=row>7<\/th><td> 7<\/td><td>0<\/td><td>1<\/td><td>McCarthy, Mr. Timothy J                            <\/td><td>male  <\/td><td>54<\/td><td>0<\/td><td>0<\/td><td>17463           <\/td><td>51.8625<\/td><td>E46 <\/td><td>S<\/td><\/tr>\n",
       "\t<tr><th scope=row>8<\/th><td> 8<\/td><td>0<\/td><td>3<\/td><td>Palsson, Master. Gosta Leonard                     <\/td><td>male  <\/td><td> 2<\/td><td>3<\/td><td>1<\/td><td>349909          <\/td><td>21.0750<\/td><td>    <\/td><td>S<\/td><\/tr>\n",
       "\t<tr><th scope=row>9<\/th><td> 9<\/td><td>1<\/td><td>3<\/td><td>Johnson, Mrs. Oscar W (Elisabeth Vilhelmina Berg)  <\/td><td>female<\/td><td>27<\/td><td>0<\/td><td>2<\/td><td>347742          <\/td><td>11.1333<\/td><td>    <\/td><td>S<\/td><\/tr>\n",
       "\t<tr><th scope=row>10<\/th><td>10<\/td><td>1<\/td><td>2<\/td><td>Nasser, Mrs. Nicholas (Adele Achem)                <\/td><td>female<\/td><td>14<\/td><td>1<\/td><td>0<\/td><td>237736          <\/td><td>30.0708<\/td><td>    <\/td><td>C<\/td><\/tr>\n",
       "<\/tbody>\n",
       "<\/table>\n"
      ]
     },
     "metadata":{
      
     },
     "output_type":"display_data"
    }
   ],
   "metadata":{
    "datalore":{
     "node_id":"Ev77UFEnPrhThT5pMZjZN3",
     "type":"CODE",
     "hide_input_from_viewers":true,
     "hide_output_from_viewers":true
    }
   }
  },
  {
   "cell_type":"code",
   "source":[
    "#data cleaning\n",
    "#drop na (missing value)\n",
    "titanic_train <- na.omit(titanic_train)\n",
    "\n",
    "#factorizing\n",
    "titanic_train$Sex <- factor(titanic_train$Sex,\n",
    "    levels = c(\"male\", \"female\"),\n",
    "    labels = c(0, 1))"
   ],
   "execution_count":7,
   "outputs":[
    
   ],
   "metadata":{
    "datalore":{
     "node_id":"CMn4e9aRd0JgujpNILI1T2",
     "type":"CODE",
     "hide_input_from_viewers":true,
     "hide_output_from_viewers":true
    }
   }
  },
  {
   "cell_type":"code",
   "source":[
    "#data model\n",
    "model_full <- glm(Survived ~ . -Name -Ticket -Cabin -Embarked, data = titanic_train, family = \"binomial\")\n",
    "summary(model_full)"
   ],
   "execution_count":12,
   "outputs":[
    {
     "data":{
      "text\/plain":[
       "\n",
       "Call:\n",
       "glm(formula = Survived ~ . - Name - Ticket - Cabin - Embarked, \n",
       "    family = \"binomial\", data = titanic_train)\n",
       "\n",
       "Deviance Residuals: \n",
       "    Min       1Q   Median       3Q      Max  \n",
       "-2.7763  -0.6448  -0.3775   0.6266   2.4607  \n",
       "\n",
       "Coefficients:\n",
       "              Estimate Std. Error z value Pr(>|z|)    \n",
       "(Intercept)  2.5742206  0.5786108   4.449 8.63e-06 ***\n",
       "PassengerId  0.0003718  0.0003815   0.974  0.32987    \n",
       "Pclass      -1.2387100  0.1635274  -7.575 3.59e-14 ***\n",
       "Sex1         2.6465184  0.2204717  12.004  < 2e-16 ***\n",
       "Age         -0.0439970  0.0081820  -5.377 7.56e-08 ***\n",
       "SibSp       -0.3661976  0.1280162  -2.861  0.00423 ** \n",
       "Parch       -0.0705650  0.1236471  -0.571  0.56821    \n",
       "Fare         0.0022108  0.0025230   0.876  0.38088    \n",
       "---\n",
       "Signif. codes:  0 ‘***’ 0.001 ‘**’ 0.01 ‘*’ 0.05 ‘.’ 0.1 ‘ ’ 1\n",
       "\n",
       "(Dispersion parameter for binomial family taken to be 1)\n",
       "\n",
       "    Null deviance: 964.52  on 713  degrees of freedom\n",
       "Residual deviance: 634.86  on 706  degrees of freedom\n",
       "AIC: 650.86\n",
       "\n",
       "Number of Fisher Scoring iterations: 5\n"
      ]
     },
     "metadata":{
      
     },
     "output_type":"display_data"
    }
   ],
   "metadata":{
    "datalore":{
     "node_id":"ediKsb1hAdTxHvGa9fi33u",
     "type":"CODE",
     "hide_input_from_viewers":true,
     "hide_output_from_viewers":true
    }
   }
  },
  {
   "cell_type":"code",
   "source":[
    "#split data\n",
    "set.seed(42)\n",
    "n <- nrow(titanic_train)\n",
    "id <- sample(1:n, size = n*0.7) #70%train, 30%test\n",
    "train_data <- titanic_train[id, ]\n",
    "test_data <- titanic_train[-id, ]\n",
    "\n",
    "nrow(train_data)"
   ],
   "execution_count":13,
   "outputs":[
    {
     "data":{
      "text\/html":[
       "499"
      ]
     },
     "metadata":{
      
     },
     "output_type":"display_data"
    }
   ],
   "metadata":{
    "datalore":{
     "node_id":"BiWrAWb7Y9RrcPnW2zg3SC",
     "type":"CODE",
     "hide_input_from_viewers":true,
     "hide_output_from_viewers":true
    }
   }
  },
  {
   "cell_type":"code",
   "source":[
    "nrow(test_data)"
   ],
   "execution_count":14,
   "outputs":[
    {
     "data":{
      "text\/html":[
       "215"
      ]
     },
     "metadata":{
      
     },
     "output_type":"display_data"
    }
   ],
   "metadata":{
    "datalore":{
     "node_id":"865oHdqRRpz9ix0R5VYzbA",
     "type":"CODE",
     "hide_input_from_viewers":true,
     "hide_output_from_viewers":true
    }
   }
  },
  {
   "cell_type":"code",
   "source":[
    "#fit logistic regression\n",
    "model <- glm(Survived ~ Pclass + Age + Sex + SibSp, data = train_data, family = \"binomial\")\n",
    "summary(model)"
   ],
   "execution_count":15,
   "outputs":[
    {
     "data":{
      "text\/plain":[
       "\n",
       "Call:\n",
       "glm(formula = Survived ~ Pclass + Age + Sex + SibSp, family = \"binomial\", \n",
       "    data = train_data)\n",
       "\n",
       "Deviance Residuals: \n",
       "    Min       1Q   Median       3Q      Max  \n",
       "-2.9097  -0.6223  -0.3378   0.6033   2.4133  \n",
       "\n",
       "Coefficients:\n",
       "            Estimate Std. Error z value Pr(>|z|)    \n",
       "(Intercept)  3.39131    0.60350   5.619 1.92e-08 ***\n",
       "Pclass      -1.49165    0.17867  -8.349  < 2e-16 ***\n",
       "Age         -0.05004    0.01031  -4.851 1.23e-06 ***\n",
       "Sex1         2.82454    0.27045  10.444  < 2e-16 ***\n",
       "SibSp       -0.40560    0.15504  -2.616  0.00889 ** \n",
       "---\n",
       "Signif. codes:  0 ‘***’ 0.001 ‘**’ 0.01 ‘*’ 0.05 ‘.’ 0.1 ‘ ’ 1\n",
       "\n",
       "(Dispersion parameter for binomial family taken to be 1)\n",
       "\n",
       "    Null deviance: 673.56  on 498  degrees of freedom\n",
       "Residual deviance: 424.77  on 494  degrees of freedom\n",
       "AIC: 434.77\n",
       "\n",
       "Number of Fisher Scoring iterations: 5\n"
      ]
     },
     "metadata":{
      
     },
     "output_type":"display_data"
    }
   ],
   "metadata":{
    "datalore":{
     "node_id":"BNvjMmpwzPSjbUt0lA7atV",
     "type":"CODE",
     "hide_input_from_viewers":true,
     "hide_output_from_viewers":true
    }
   }
  },
  {
   "cell_type":"code",
   "source":[
    "#predicted from train_data\n",
    "train_data$prob_survived <- predict(model, type = \"response\")\n",
    "train_data$preb_survived <- ifelse(train_data$prob_survived >= 0.5, 1, 0)\n",
    "\n",
    "#confusion matrix\n",
    "conM_train <- table(train_data$Survived, train_data$preb_survived, dnn = c(\"Actual\", \"Predicted\"))\n",
    "conM_train"
   ],
   "execution_count":22,
   "outputs":[
    {
     "data":{
      "text\/html":[
       "<pre>      Predicted\n",
       "Actual   0   1\n",
       "     0 256  41\n",
       "     1  52 150<\/pre>"
      ]
     },
     "metadata":{
      
     },
     "output_type":"display_data"
    }
   ],
   "metadata":{
    "datalore":{
     "node_id":"WguhbQAWNXYPUvd803jRCe",
     "type":"CODE",
     "hide_input_from_viewers":true,
     "hide_output_from_viewers":true
    }
   }
  },
  {
   "cell_type":"code",
   "source":[
    "#model evaluate\n",
    "accuracy_train <- (conM_train[1, 1] + conM_train[2, 2]) \/ sum(conM_train)\n",
    "precision_train <- conM_train[2, 2] \/ (conM_train[2, 1] + conM_train[2, 2])\n",
    "recall_train <- conM_train[2, 2] \/ (conM_train[1, 2] + conM_train[2, 2])\n",
    "f1_train <- 2 * ((precision_train*recall_train) \/ (precision_train+recall_train))\n",
    "\n",
    "cat(\"Accuracy : \", accuracy_train,\n",
    "    \"\\nPrecision : \", precision_train,\n",
    "    \"\\nRecall :\", recall_train,\n",
    "    \"\\nF1-Score :\", f1_train)"
   ],
   "execution_count":17,
   "outputs":[
    {
     "name":"stdout",
     "text":[
      "Accuracy :  0.8136273 \n",
      "Precision :  0.7425743 \n",
      "Recall : 0.7853403 \n",
      "F1-Score : 0.7633588"
     ],
     "output_type":"stream"
    }
   ],
   "metadata":{
    "datalore":{
     "node_id":"sajIekB9hqUTdiDAqEgqF6",
     "type":"CODE",
     "hide_input_from_viewers":true,
     "hide_output_from_viewers":true
    }
   }
  },
  {
   "cell_type":"code",
   "source":[
    "#test model\n",
    "#predicted from test_data\n",
    "test_data$prob_survived <- predict(model, newdata=test_data, type = \"response\")\n",
    "test_data$preb_survived <- ifelse(test_data$prob_survived >= 0.5, 1, 0)\n",
    "\n",
    "#confusion matrix\n",
    "conM_test <- table(test_data$Survived, test_data$preb_survived, dnn = c(\"Predicted\", \"Actual\"))\n",
    "conM_test"
   ],
   "execution_count":19,
   "outputs":[
    {
     "data":{
      "text\/html":[
       "<pre>         Actual\n",
       "Predicted   0   1\n",
       "        0 110  17\n",
       "        1  26  62<\/pre>"
      ]
     },
     "metadata":{
      
     },
     "output_type":"display_data"
    }
   ],
   "metadata":{
    "datalore":{
     "node_id":"mlg0hUvDSnxDEbW06wfSYW",
     "type":"CODE",
     "hide_input_from_viewers":true,
     "hide_output_from_viewers":true
    }
   }
  },
  {
   "cell_type":"code",
   "source":[
    "#model evaluate\n",
    "accuracy_test <- (conM_test[1, 1] + conM_test[2, 2]) \/ sum(conM_test)\n",
    "precision_test <- conM_test[2, 2] \/ (conM_test[2, 1] + conM_test[2, 2])\n",
    "recall_test <- conM_test[2, 2] \/ (conM_test[1, 2] + conM_test[2, 2])\n",
    "f1_test <- 2 * ((precision_test*recall_test) \/ (precision_test+recall_test))\n",
    "\n",
    "cat(\"Accuracy : \", accuracy_test,\n",
    "    \"\\nPrecision : \", precision_test,\n",
    "    \"\\nRecall :\", recall_test,\n",
    "    \"\\nF1-Score :\", f1_test)"
   ],
   "execution_count":20,
   "outputs":[
    {
     "name":"stdout",
     "text":[
      "Accuracy :  0.8 \n",
      "Precision :  0.7045455 \n",
      "Recall : 0.7848101 \n",
      "F1-Score : 0.742515"
     ],
     "output_type":"stream"
    }
   ],
   "metadata":{
    "datalore":{
     "node_id":"2vK5MkkTEh5FMw2SWbh8QE",
     "type":"CODE",
     "hide_input_from_viewers":true,
     "hide_output_from_viewers":true
    }
   }
  },
  {
   "cell_type":"code",
   "source":[
    "#summary\n",
    "(result <- data.frame(\n",
    "    type = c(\"train\", \"test\"),\n",
    "    accuracy = c(accuracy_train, accuracy_test),\n",
    "    precision = c(precision_train, precision_test),\n",
    "    recall = c(recall_train, recall_test),\n",
    "    f1_score = c(f1_train, f1_test)\n",
    "))"
   ],
   "execution_count":21,
   "outputs":[
    {
     "data":{
      "text\/html":[
       "<table class=\"dataframe\">\n",
       "<caption>A data.frame: 2 × 5<\/caption>\n",
       "<thead>\n",
       "\t<tr><th scope=col>type<\/th><th scope=col>accuracy<\/th><th scope=col>precision<\/th><th scope=col>recall<\/th><th scope=col>f1_score<\/th><\/tr>\n",
       "\t<tr><th scope=col>&lt;chr&gt;<\/th><th scope=col>&lt;dbl&gt;<\/th><th scope=col>&lt;dbl&gt;<\/th><th scope=col>&lt;dbl&gt;<\/th><th scope=col>&lt;dbl&gt;<\/th><\/tr>\n",
       "<\/thead>\n",
       "<tbody>\n",
       "\t<tr><td>train<\/td><td>0.8136273<\/td><td>0.7425743<\/td><td>0.7853403<\/td><td>0.7633588<\/td><\/tr>\n",
       "\t<tr><td>test <\/td><td>0.8000000<\/td><td>0.7045455<\/td><td>0.7848101<\/td><td>0.7425150<\/td><\/tr>\n",
       "<\/tbody>\n",
       "<\/table>\n"
      ]
     },
     "metadata":{
      
     },
     "output_type":"display_data"
    }
   ],
   "metadata":{
    "datalore":{
     "node_id":"Sph7Ob5bzVSTHi1YH9uReS",
     "type":"CODE",
     "hide_input_from_viewers":true,
     "hide_output_from_viewers":true
    }
   }
  }
 ],
 "metadata":{
  "kernelspec":{
   "display_name":"R",
   "language":"r",
   "name":"ir"
  },
  "datalore":{
   "computation_mode":"JUPYTER",
   "package_manager":"conda",
   "base_environment":"minimal",
   "packages":[
    
   ],
   "report_row_ids":[
    
   ],
   "version":3
  }
 },
 "nbformat":4,
 "nbformat_minor":4
}